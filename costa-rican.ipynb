{
 "cells": [
  {
   "cell_type": "code",
   "execution_count": 3,
   "id": "1cd2aa31-74c8-4a0a-a376-2ac53dcf13a0",
   "metadata": {},
   "outputs": [],
   "source": [
    "import numpy as np\n",
    "import pandas as pd\n",
    "import matplotlib.pyplot as plt"
   ]
  },
  {
   "cell_type": "code",
   "execution_count": 4,
   "id": "85bb8847-4b61-40b0-8027-fbfa5a166b82",
   "metadata": {},
   "outputs": [],
   "source": [
    "df=pd.read_csv(\"C:/Users/USER/OneDrive/Masaüstü/Denemeler/costa-rican-household/train.csv\")"
   ]
  },
  {
   "cell_type": "code",
   "execution_count": 5,
   "id": "a3ed076a-afed-40bd-9580-950d4ab6a64d",
   "metadata": {},
   "outputs": [
    {
     "data": {
      "text/html": [
       "<div>\n",
       "<style scoped>\n",
       "    .dataframe tbody tr th:only-of-type {\n",
       "        vertical-align: middle;\n",
       "    }\n",
       "\n",
       "    .dataframe tbody tr th {\n",
       "        vertical-align: top;\n",
       "    }\n",
       "\n",
       "    .dataframe thead th {\n",
       "        text-align: right;\n",
       "    }\n",
       "</style>\n",
       "<table border=\"1\" class=\"dataframe\">\n",
       "  <thead>\n",
       "    <tr style=\"text-align: right;\">\n",
       "      <th></th>\n",
       "      <th>Id</th>\n",
       "      <th>v2a1</th>\n",
       "      <th>hacdor</th>\n",
       "      <th>rooms</th>\n",
       "      <th>hacapo</th>\n",
       "      <th>v14a</th>\n",
       "      <th>refrig</th>\n",
       "      <th>v18q</th>\n",
       "      <th>v18q1</th>\n",
       "      <th>r4h1</th>\n",
       "      <th>...</th>\n",
       "      <th>SQBescolari</th>\n",
       "      <th>SQBage</th>\n",
       "      <th>SQBhogar_total</th>\n",
       "      <th>SQBedjefe</th>\n",
       "      <th>SQBhogar_nin</th>\n",
       "      <th>SQBovercrowding</th>\n",
       "      <th>SQBdependency</th>\n",
       "      <th>SQBmeaned</th>\n",
       "      <th>agesq</th>\n",
       "      <th>Target</th>\n",
       "    </tr>\n",
       "  </thead>\n",
       "  <tbody>\n",
       "    <tr>\n",
       "      <th>0</th>\n",
       "      <td>ID_279628684</td>\n",
       "      <td>190000.0</td>\n",
       "      <td>0</td>\n",
       "      <td>3</td>\n",
       "      <td>0</td>\n",
       "      <td>1</td>\n",
       "      <td>1</td>\n",
       "      <td>0</td>\n",
       "      <td>NaN</td>\n",
       "      <td>0</td>\n",
       "      <td>...</td>\n",
       "      <td>100</td>\n",
       "      <td>1849</td>\n",
       "      <td>1</td>\n",
       "      <td>100</td>\n",
       "      <td>0</td>\n",
       "      <td>1.000000</td>\n",
       "      <td>0.0</td>\n",
       "      <td>100.0</td>\n",
       "      <td>1849</td>\n",
       "      <td>4</td>\n",
       "    </tr>\n",
       "    <tr>\n",
       "      <th>1</th>\n",
       "      <td>ID_f29eb3ddd</td>\n",
       "      <td>135000.0</td>\n",
       "      <td>0</td>\n",
       "      <td>4</td>\n",
       "      <td>0</td>\n",
       "      <td>1</td>\n",
       "      <td>1</td>\n",
       "      <td>1</td>\n",
       "      <td>1.0</td>\n",
       "      <td>0</td>\n",
       "      <td>...</td>\n",
       "      <td>144</td>\n",
       "      <td>4489</td>\n",
       "      <td>1</td>\n",
       "      <td>144</td>\n",
       "      <td>0</td>\n",
       "      <td>1.000000</td>\n",
       "      <td>64.0</td>\n",
       "      <td>144.0</td>\n",
       "      <td>4489</td>\n",
       "      <td>4</td>\n",
       "    </tr>\n",
       "    <tr>\n",
       "      <th>2</th>\n",
       "      <td>ID_68de51c94</td>\n",
       "      <td>NaN</td>\n",
       "      <td>0</td>\n",
       "      <td>8</td>\n",
       "      <td>0</td>\n",
       "      <td>1</td>\n",
       "      <td>1</td>\n",
       "      <td>0</td>\n",
       "      <td>NaN</td>\n",
       "      <td>0</td>\n",
       "      <td>...</td>\n",
       "      <td>121</td>\n",
       "      <td>8464</td>\n",
       "      <td>1</td>\n",
       "      <td>0</td>\n",
       "      <td>0</td>\n",
       "      <td>0.250000</td>\n",
       "      <td>64.0</td>\n",
       "      <td>121.0</td>\n",
       "      <td>8464</td>\n",
       "      <td>4</td>\n",
       "    </tr>\n",
       "    <tr>\n",
       "      <th>3</th>\n",
       "      <td>ID_d671db89c</td>\n",
       "      <td>180000.0</td>\n",
       "      <td>0</td>\n",
       "      <td>5</td>\n",
       "      <td>0</td>\n",
       "      <td>1</td>\n",
       "      <td>1</td>\n",
       "      <td>1</td>\n",
       "      <td>1.0</td>\n",
       "      <td>0</td>\n",
       "      <td>...</td>\n",
       "      <td>81</td>\n",
       "      <td>289</td>\n",
       "      <td>16</td>\n",
       "      <td>121</td>\n",
       "      <td>4</td>\n",
       "      <td>1.777778</td>\n",
       "      <td>1.0</td>\n",
       "      <td>121.0</td>\n",
       "      <td>289</td>\n",
       "      <td>4</td>\n",
       "    </tr>\n",
       "    <tr>\n",
       "      <th>4</th>\n",
       "      <td>ID_d56d6f5f5</td>\n",
       "      <td>180000.0</td>\n",
       "      <td>0</td>\n",
       "      <td>5</td>\n",
       "      <td>0</td>\n",
       "      <td>1</td>\n",
       "      <td>1</td>\n",
       "      <td>1</td>\n",
       "      <td>1.0</td>\n",
       "      <td>0</td>\n",
       "      <td>...</td>\n",
       "      <td>121</td>\n",
       "      <td>1369</td>\n",
       "      <td>16</td>\n",
       "      <td>121</td>\n",
       "      <td>4</td>\n",
       "      <td>1.777778</td>\n",
       "      <td>1.0</td>\n",
       "      <td>121.0</td>\n",
       "      <td>1369</td>\n",
       "      <td>4</td>\n",
       "    </tr>\n",
       "  </tbody>\n",
       "</table>\n",
       "<p>5 rows × 143 columns</p>\n",
       "</div>"
      ],
      "text/plain": [
       "             Id      v2a1  hacdor  rooms  hacapo  v14a  refrig  v18q  v18q1  \\\n",
       "0  ID_279628684  190000.0       0      3       0     1       1     0    NaN   \n",
       "1  ID_f29eb3ddd  135000.0       0      4       0     1       1     1    1.0   \n",
       "2  ID_68de51c94       NaN       0      8       0     1       1     0    NaN   \n",
       "3  ID_d671db89c  180000.0       0      5       0     1       1     1    1.0   \n",
       "4  ID_d56d6f5f5  180000.0       0      5       0     1       1     1    1.0   \n",
       "\n",
       "   r4h1  ...  SQBescolari  SQBage  SQBhogar_total  SQBedjefe  SQBhogar_nin  \\\n",
       "0     0  ...          100    1849               1        100             0   \n",
       "1     0  ...          144    4489               1        144             0   \n",
       "2     0  ...          121    8464               1          0             0   \n",
       "3     0  ...           81     289              16        121             4   \n",
       "4     0  ...          121    1369              16        121             4   \n",
       "\n",
       "   SQBovercrowding  SQBdependency  SQBmeaned  agesq  Target  \n",
       "0         1.000000            0.0      100.0   1849       4  \n",
       "1         1.000000           64.0      144.0   4489       4  \n",
       "2         0.250000           64.0      121.0   8464       4  \n",
       "3         1.777778            1.0      121.0    289       4  \n",
       "4         1.777778            1.0      121.0   1369       4  \n",
       "\n",
       "[5 rows x 143 columns]"
      ]
     },
     "execution_count": 5,
     "metadata": {},
     "output_type": "execute_result"
    }
   ],
   "source": [
    "df.head()"
   ]
  },
  {
   "cell_type": "code",
   "execution_count": 6,
   "id": "f3add965-94ba-4ec0-aee6-efc142b4c410",
   "metadata": {},
   "outputs": [
    {
     "name": "stdout",
     "output_type": "stream",
     "text": [
      "<class 'pandas.core.frame.DataFrame'>\n",
      "RangeIndex: 9557 entries, 0 to 9556\n",
      "Columns: 143 entries, Id to Target\n",
      "dtypes: float64(8), int64(130), object(5)\n",
      "memory usage: 10.4+ MB\n"
     ]
    }
   ],
   "source": [
    "df.info()"
   ]
  },
  {
   "cell_type": "code",
   "execution_count": 7,
   "id": "b5b14071-7033-41dc-a485-b360d4744277",
   "metadata": {},
   "outputs": [],
   "source": [
    "object_columns=df.select_dtypes(include=[\"object\"]).columns\n",
    "for col in object_columns:\n",
    "    df[col]=pd.factorize(df[col])[0]+1"
   ]
  },
  {
   "cell_type": "code",
   "execution_count": 22,
   "id": "6c0191f0-5d8b-478b-9eda-8e5f601388e2",
   "metadata": {},
   "outputs": [],
   "source": [
    "na_columns=df.columns[df.isna().sum() > 0].tolist()"
   ]
  },
  {
   "cell_type": "code",
   "execution_count": 13,
   "id": "3a677ff0-cf42-449a-adc7-b74b84369352",
   "metadata": {},
   "outputs": [
    {
     "name": "stdout",
     "output_type": "stream",
     "text": [
      "v2a1: 130000.0\n",
      "v18q1: 1.0\n",
      "rez_esc: 0.0\n",
      "meaneduc: 9.0\n",
      "SQBmeaned: 81.0\n"
     ]
    }
   ],
   "source": [
    "for i in na_columns:\n",
    "    print(f\"{i}: {df[i].median()}\")"
   ]
  },
  {
   "cell_type": "code",
   "execution_count": 14,
   "id": "9dbc357b-a068-4e45-83e6-ef6f79012cb9",
   "metadata": {},
   "outputs": [
    {
     "name": "stdout",
     "output_type": "stream",
     "text": [
      "v2a1: 165231.6069707082\n",
      "v18q1: 1.4040632054176072\n",
      "rez_esc: 0.4597912829957029\n",
      "meaneduc: 9.231522935701422\n",
      "SQBmeaned: 102.58886699019682\n"
     ]
    }
   ],
   "source": [
    "for i in na_columns:\n",
    "    print(f\"{i}: {df[i].mean()}\")"
   ]
  },
  {
   "cell_type": "code",
   "execution_count": 15,
   "id": "7ba64620-d0c0-420d-beab-0f0f5004e049",
   "metadata": {},
   "outputs": [
    {
     "name": "stdout",
     "output_type": "stream",
     "text": [
      "<class 'pandas.core.frame.DataFrame'>\n",
      "RangeIndex: 9557 entries, 0 to 9556\n",
      "Columns: 143 entries, Id to Target\n",
      "dtypes: float64(8), int64(135)\n",
      "memory usage: 10.4 MB\n"
     ]
    }
   ],
   "source": [
    "df.info()"
   ]
  },
  {
   "cell_type": "markdown",
   "id": "a3170aa9-ac84-4264-b805-b9f884ae8126",
   "metadata": {},
   "source": [
    "# Filling with median is a better way"
   ]
  },
  {
   "cell_type": "code",
   "execution_count": 23,
   "id": "479694cb-0c65-43f5-9795-d52d1376110e",
   "metadata": {},
   "outputs": [],
   "source": [
    "df[na_columns]=df[na_columns].apply(lambda x: x.fillna(x.median()))"
   ]
  },
  {
   "cell_type": "code",
   "execution_count": 25,
   "id": "c71e74fa-d2e6-4daa-846d-db0de648137b",
   "metadata": {},
   "outputs": [],
   "source": [
    "## Data has availability to increase the features\n",
    "\n",
    "train_set=df"
   ]
  },
  {
   "cell_type": "code",
   "execution_count": 26,
   "id": "d54a8e89-2938-4a55-af82-864b96ffe99e",
   "metadata": {},
   "outputs": [],
   "source": [
    "df['rent_per_adult'] = df['v2a1']/df['hogar_adul']\n",
    "df['rent_per_person'] = df['v2a1']/df['hhsize']\n",
    "\n",
    "df['overcrowding_room_and_bedroom'] = (df['hacdor'] + df['hacapo'])/2\n",
    "\n",
    "df['no_appliances'] = df['refrig'] + df['computer'] + df['television']\n",
    "\n",
    "df['r4h1_percent_in_male'] = df['r4h1'] / df['r4h3']\n",
    "df['r4m1_percent_in_female'] = df['r4m1'] / df['r4m3']\n",
    "df['r4h1_percent_in_total'] = df['r4h1'] / df['hhsize']\n",
    "df['r4m1_percent_in_total'] = df['r4m1'] / df['hhsize']\n",
    "df['r4t1_percent_in_total'] = df['r4t1'] / df['hhsize']\n",
    "\n",
    "df['adult'] = df['hogar_adul'] - df['hogar_mayor']\n",
    "df['dependency_count'] = train_set['hogar_nin'] + df['hogar_mayor']\n",
    "df['dependency'] = df['dependency_count'] / df['adult']\n",
    "df['child_percent'] = df['hogar_nin']/df['hogar_total']\n",
    "df['elder_percent'] = df['hogar_mayor']/df['hogar_total']\n",
    "df['adult_percent'] = df['hogar_adul']/df['hogar_total']\n",
    "\n",
    "df['rent_per_bedroom'] = df['v2a1']/df['bedrooms']\n",
    "df['adults_per_bedroom'] = df['adult']/df['bedrooms']\n",
    "df['child_per_bedroom'] = df['hogar_nin']/df['bedrooms']\n",
    "df['male_per_bedroom'] = df['r4h3']/df['bedrooms']\n",
    "\n",
    "df['female_per_bedroom'] = df['r4m3']/df['bedrooms']\n",
    "df['bedrooms_per_person_household'] = df['hhsize']/df['bedrooms']\n",
    "\n",
    "df['tablet_per_person_household'] = df['v18q1']/df['hhsize']\n",
    "df['phone_per_person_household'] = df['qmobilephone']/df['hhsize']\n",
    "\n",
    "df['age_12_19'] = df['hogar_nin'] - df['r4t1']\n",
    "\n",
    "df['rent_per_room'] = df['v2a1']/df['rooms']\n",
    "df['bedroom_per_room'] = df['bedrooms']/df['rooms']\n",
    "df['elder_per_room'] = df['hogar_mayor']/df['rooms']\n",
    "df['adults_per_room'] = df['adult']/df['rooms']\n",
    "df['child_per_room'] = df['hogar_nin']/df['rooms']\n",
    "df['male_per_room'] = df['r4h3']/df['rooms']\n",
    "df['female_per_room'] = df['r4m3']/df['rooms']\n",
    "df['room_per_person_household'] = df['hhsize']/df['rooms']\n",
    "df['escolari_age'] = df['escolari']/df['age']\n",
    "\n",
    "df['rez_esc_escolari'] = df['rez_esc']/df['escolari']\n",
    "df['rez_esc_r4t1'] = df['rez_esc']/df['r4t1']\n",
    "df['rez_esc_r4t2'] = df['rez_esc']/df['r4t2']\n",
    "df['rez_esc_r4t3'] = df['rez_esc']/df['r4t3']\n",
    "df['rez_esc_age'] = df['rez_esc']/df['age']"
   ]
  },
  {
   "cell_type": "markdown",
   "id": "5610c35a-75ab-4415-ad29-ec59c755cd05",
   "metadata": {},
   "source": [
    "# We've small portion of data so there is no need for PCA or something else"
   ]
  },
  {
   "cell_type": "code",
   "execution_count": 93,
   "id": "a28b0a1c-c036-43ab-89df-7a1925aa8792",
   "metadata": {},
   "outputs": [],
   "source": [
    "from sklearn import svm\n",
    "from sklearn.neighbors import NearestNeighbors\n",
    "from sklearn.linear_model import SGDClassifier\n",
    "from sklearn.model_selection import cross_validate,cross_val_score\n",
    "from sklearn.metrics import precision_score, recall_score, f1_score\n",
    "from sklearn.model_selection import train_test_split\n",
    "X=df.drop(\"Target\", axis=1)\n",
    "y=df[\"Target\"]"
   ]
  },
  {
   "cell_type": "code",
   "execution_count": 94,
   "id": "f1dfc590-2c53-4109-b793-1343465e6262",
   "metadata": {},
   "outputs": [],
   "source": [
    "X_test, X_train, y_test, y_train = train_test_split(X,y, test_size=0.2)"
   ]
  },
  {
   "cell_type": "code",
   "execution_count": 95,
   "id": "db44a5f5-8ed2-4c42-bcbf-06def4d3bc94",
   "metadata": {},
   "outputs": [],
   "source": [
    "models={\n",
    "    \"SVM\": svm.SVC(),\n",
    "    \"SGD Classifier\":SGDClassifier() \n",
    "}"
   ]
  },
  {
   "cell_type": "code",
   "execution_count": 96,
   "id": "beea64fb-045d-4de4-b48d-a87af8de2210",
   "metadata": {},
   "outputs": [],
   "source": [
    "from sklearn.impute import SimpleImputer\n",
    "\n",
    "# NaN ve Sonsuz değerleri temizle\n",
    "X_train = np.where(np.isfinite(X_train), X_train, np.nan)\n",
    "X_test = np.where(np.isfinite(X_test), X_test, np.nan)\n",
    "\n",
    "# Eksik değerleri median ile doldur\n",
    "imputer = SimpleImputer(strategy=\"median\")\n",
    "X_train = imputer.fit_transform(X_train)\n",
    "X_test = imputer.transform(X_test)\n"
   ]
  },
  {
   "cell_type": "code",
   "execution_count": 97,
   "id": "1e542293-749c-4fd9-82dd-6efe83d1a5d6",
   "metadata": {},
   "outputs": [],
   "source": [
    "from sklearn import svm\n",
    "from sklearn.linear_model import SGDClassifier\n",
    "from sklearn.metrics import precision_score, recall_score, f1_score\n",
    "\n",
    "# Model listesi - NearestNeighbors() çıkarıldı çünkü sınıflandırıcı değil!\n",
    "models = {\n",
    "    \"SVM\": svm.SVC(),\n",
    "    \"SGD Classifier\": SGDClassifier()\n",
    "}\n",
    "\n",
    "def fit_and_score(models, X_train, X_test, y_train, y_test):\n",
    "    model_scores1 = {}\n",
    "\n",
    "    for name, model in models.items():\n",
    "        model.fit(X_train, y_train)  # Modeli eğitiyoruz\n",
    "        y_pred = model.predict(X_test)  # Tahmin yapıyoruz\n",
    "\n",
    "        accuracy = model.score(X_test, y_test)\n",
    "        precision = precision_score(y_test, y_pred, average=\"weighted\")\n",
    "        recall = recall_score(y_test, y_pred, average=\"weighted\")\n",
    "        f1 = f1_score(y_test, y_pred, average=\"weighted\")\n",
    "\n",
    "        model_scores1[name] = {\n",
    "            \"Accuracy\": accuracy,\n",
    "            \"Precision\": precision,\n",
    "            \"Recall\": recall,\n",
    "            \"F1 Score\": f1\n",
    "        }\n",
    "\n",
    "    return model_scores1"
   ]
  },
  {
   "cell_type": "code",
   "execution_count": 99,
   "id": "2f9739d6-4849-4b4d-8486-d4a3365297f9",
   "metadata": {},
   "outputs": [
    {
     "name": "stderr",
     "output_type": "stream",
     "text": [
      "C:\\Users\\USER\\anaconda3\\Lib\\site-packages\\sklearn\\metrics\\_classification.py:1344: UndefinedMetricWarning: Precision is ill-defined and being set to 0.0 in labels with no predicted samples. Use `zero_division` parameter to control this behavior.\n",
      "  _warn_prf(average, modifier, msg_start, len(result))\n"
     ]
    }
   ],
   "source": [
    "# Model skorlarını hesapla\n",
    "model_scores1 = fit_and_score(models, X_train, X_test, y_train, y_test)"
   ]
  },
  {
   "cell_type": "code",
   "execution_count": 100,
   "id": "4d6ef698-5ad8-4c16-9c7a-017f789ab2ce",
   "metadata": {},
   "outputs": [
    {
     "data": {
      "text/plain": [
       "{'SVM': {'Accuracy': 0.6295618051013735,\n",
       "  'Precision': 0.39634806644249976,\n",
       "  'Recall': 0.6295618051013735,\n",
       "  'F1 Score': 0.4864474181976097},\n",
       " 'SGD Classifier': {'Accuracy': 0.6115107913669064,\n",
       "  'Precision': 0.49249698242415585,\n",
       "  'Recall': 0.6115107913669064,\n",
       "  'F1 Score': 0.5169818584800929}}"
      ]
     },
     "execution_count": 100,
     "metadata": {},
     "output_type": "execute_result"
    }
   ],
   "source": [
    "model_scores1"
   ]
  },
  {
   "cell_type": "markdown",
   "id": "e65a169f-7206-4a51-a39f-920ae0f1483b",
   "metadata": {},
   "source": [
    "## I'll Use Another Classifiers soon (xgboost, lgbm etc.)"
   ]
  },
  {
   "cell_type": "code",
   "execution_count": null,
   "id": "c40d14ca-ec79-4010-ad89-dd0fad84cc49",
   "metadata": {},
   "outputs": [],
   "source": []
  }
 ],
 "metadata": {
  "kernelspec": {
   "display_name": "Python 3 (ipykernel)",
   "language": "python",
   "name": "python3"
  },
  "language_info": {
   "codemirror_mode": {
    "name": "ipython",
    "version": 3
   },
   "file_extension": ".py",
   "mimetype": "text/x-python",
   "name": "python",
   "nbconvert_exporter": "python",
   "pygments_lexer": "ipython3",
   "version": "3.11.7"
  }
 },
 "nbformat": 4,
 "nbformat_minor": 5
}
